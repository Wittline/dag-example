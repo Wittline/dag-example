{
  "nbformat": 4,
  "nbformat_minor": 0,
  "metadata": {
    "colab": {
      "name": "Untitled48.ipynb",
      "provenance": [],
      "collapsed_sections": []
    },
    "kernelspec": {
      "name": "python3",
      "display_name": "Python 3"
    },
    "language_info": {
      "name": "python"
    }
  },
  "cells": [
    {
      "cell_type": "markdown",
      "source": [
        "## **DAG** ([Directed acyclic graph](https://en.wikipedia.org/wiki/Directed_acyclic_graph))\n",
        "## **Created by** [Ramses Alexander Coraspe Valdez](https://www.linkedin.com/in/ramsescoraspe)\n",
        "## **Created on February 04, 2022**"
      ],
      "metadata": {
        "id": "RhFCOuYnBanv"
      }
    },
    {
      "cell_type": "code",
      "execution_count": 1,
      "metadata": {
        "id": "vCYsw2Fz9VNv"
      },
      "outputs": [],
      "source": [
        "from sys import path\n",
        "from collections import defaultdict\n",
        "from collections import deque\n",
        "\n",
        "\n",
        "class Graph:\n",
        "    def __init__(self):\n",
        "        self.nodes = set()\n",
        "        self.edges = defaultdict(list)\n",
        "        self.weights = {}\n",
        "\n",
        "    def addNode(self,value):\n",
        "        if not value in self.nodes:\n",
        "            self.nodes.add(value)    \n",
        "    \n",
        "    def addEdge(self, fromn, ton, weight):\n",
        "        self.edges[fromn].append(ton)\n",
        "        self.weights[(fromn, ton)] = weight\n",
        "        \n",
        "\n",
        "    def cost_path(self, path):\n",
        "        cost = 0\n",
        "        for i in range(0, len(path)-1, 1):\n",
        "            listweights = [path[i], path[i+1]]\n",
        "            cost += self.weights[tuple(listweights)]\n",
        "        return cost\n",
        "\n",
        "    def countPaths(self, s, d):\n",
        " \n",
        "        v = [False] * len(self.nodes)\n",
        "        pc = [0]\n",
        "        self.countPaths_iterate(s, d, v, pc)\n",
        "        return pc[0]\n",
        " \n",
        "\n",
        "    def countPaths_iterate(self, s, d,\n",
        "                       v, pc):\n",
        "        v[int(s)] = True\n",
        " \n",
        "        if (s == d):\n",
        "            pc[0] += 1\n",
        " \n",
        "        else:\n",
        " \n",
        "            i = 0\n",
        "            while i < len(self.edges[s]):\n",
        "                if (not v[int(self.edges[s][i])]):\n",
        "                    self.countPaths_iterate(self.edges[s][i], d,\n",
        "                                        v, pc)\n",
        "                i += 1\n",
        " \n",
        "        v[int(s)] = False\n",
        "\n",
        "\n",
        "    def get_paths(self,s, d, desc=True):\n",
        "        v = [False] * len(self.nodes)\n",
        "        path = []\n",
        "        paths = {}\n",
        "        self.show_paths_iterate(s, d, v, path, paths)\n",
        "\n",
        "        paths = sorted(paths.items(), key=lambda item: item[1], reverse=desc)\n",
        "        return paths\n",
        "\n",
        "\n",
        "    \n",
        "    def show_paths_iterate(self, s, d, v, path, paths):\n",
        " \n",
        "        v[int(s)]= True\n",
        "        path.append(s)\n",
        "\n",
        "        if s == d:\n",
        "            pth = []\n",
        "            for p in path:\n",
        "                pth.append(p)\n",
        "            paths[tuple(pth)] = self.cost_path(pth)\n",
        "        else:\n",
        "            for i in self.edges[s]:\n",
        "                if v[int(i)]== False:\n",
        "                    self.show_paths_iterate(i, d, v, path,paths)\n",
        "                     \n",
        "        path.pop()\n",
        "        v[int(s)]= False\n",
        "        \n",
        "\n",
        "    \n",
        "    def vertex_with_maxpaths_from_source(self, source):\n",
        "\n",
        "        nodes = sorted(self.nodes)\n",
        "        max_paths =  -1 \n",
        "        vertice_max_paths = 0\n",
        "\n",
        "        for i in range(1, len(self.nodes)):\n",
        "            np = self.countPaths('0', nodes[i])\n",
        "            if np > max_paths:\n",
        "                vertice_max_paths = nodes[i]\n",
        "        \n",
        "        return vertice_max_paths\n",
        "\n",
        "    \n",
        "    def add_reachable(self, v, v_n, weight):\n",
        "        self.addNode(v_n)\n",
        "        self.addEdge(v, v_n, 1)\n",
        "        return v, v_n, weight\n",
        "\n"
      ]
    },
    {
      "cell_type": "markdown",
      "source": [
        "### **Here the implementation to read the input string**"
      ],
      "metadata": {
        "id": "B6HIv9CqCR9I"
      }
    },
    {
      "cell_type": "code",
      "source": [
        "def read_data(graph, data):\n",
        "    values = data.replace('},{', ';')\n",
        "    data = values[1:-1].split(';')\n",
        "    for d in data:\n",
        "        nodes_weight = d.split(',')\n",
        "        node1  = nodes_weight[0].strip()\n",
        "        node2  = nodes_weight[1].strip()\n",
        "        weight = nodes_weight[2].strip()\n",
        "        graph.addNode(node1)\n",
        "        graph.addNode(node2)\n",
        "        graph.addEdge(node1, node2, int(weight))\n",
        "    return graph"
      ],
      "metadata": {
        "id": "yAyy3ptF9ka9"
      },
      "execution_count": 2,
      "outputs": []
    },
    {
      "cell_type": "markdown",
      "source": [
        "### **Checking the DAG Graph after reading the input string**"
      ],
      "metadata": {
        "id": "9HE5FucQCyMc"
      }
    },
    {
      "cell_type": "code",
      "source": [
        "graph = Graph()\n",
        "data = \"{0, 1, 2},{0, 2, 4},{0, 4, -2},{0, 5, 1},{0, 6, 5},{2, 3, 3},{2, 4, 2},{3, 8, -4},{4, 3, 5},{4, 8, 1},{4, 7, 2},{5, 7, -1},{5, 8, -3},{6, 7, 6},{7, 8, 2}\"\n",
        "\n",
        "graph = read_data(graph, data)\n",
        "\n",
        "print(graph.nodes)\n",
        "print(graph.edges)\n",
        "print(graph.weights)"
      ],
      "metadata": {
        "colab": {
          "base_uri": "https://localhost:8080/"
        },
        "id": "L9A2XFpVCupe",
        "outputId": "9cfa4acb-232c-4ac9-ad78-6860c1b2a749"
      },
      "execution_count": 3,
      "outputs": [
        {
          "output_type": "stream",
          "name": "stdout",
          "text": [
            "{'7', '5', '0', '6', '4', '2', '3', '1', '8'}\n",
            "defaultdict(<class 'list'>, {'0': ['1', '2', '4', '5', '6'], '2': ['3', '4'], '3': ['8'], '4': ['3', '8', '7'], '5': ['7', '8'], '6': ['7'], '7': ['8']})\n",
            "{('0', '1'): 2, ('0', '2'): 4, ('0', '4'): -2, ('0', '5'): 1, ('0', '6'): 5, ('2', '3'): 3, ('2', '4'): 2, ('3', '8'): -4, ('4', '3'): 5, ('4', '8'): 1, ('4', '7'): 2, ('5', '7'): -1, ('5', '8'): -3, ('6', '7'): 6, ('7', '8'): 2}\n"
          ]
        }
      ]
    },
    {
      "cell_type": "markdown",
      "source": [
        "### **Print the vertex (V) reachable by the greatest number of paths from the source vertex 0.**\n"
      ],
      "metadata": {
        "id": "_P6HhPkADG8w"
      }
    },
    {
      "cell_type": "code",
      "source": [
        "more_reachable= graph.vertex_with_maxpaths_from_source('0')\n",
        "print(more_reachable)\n"
      ],
      "metadata": {
        "colab": {
          "base_uri": "https://localhost:8080/"
        },
        "id": "VWsT4O0DDHTD",
        "outputId": "653e2bc4-86b1-4ea2-b6d8-74c7a7fa7796"
      },
      "execution_count": 4,
      "outputs": [
        {
          "output_type": "stream",
          "name": "stdout",
          "text": [
            "8\n"
          ]
        }
      ]
    },
    {
      "cell_type": "markdown",
      "source": [
        "### **Sort and print those paths according to their cost (descending).**"
      ],
      "metadata": {
        "id": "4MdcRjaMEHgu"
      }
    },
    {
      "cell_type": "code",
      "source": [
        "paths = graph.get_paths('0', more_reachable, True)\n",
        "\n",
        "for path in paths:\n",
        "    print(\"The path:\", path[0], \"cost:\", path[1])\n"
      ],
      "metadata": {
        "colab": {
          "base_uri": "https://localhost:8080/"
        },
        "id": "vhIvmOZIEHub",
        "outputId": "8f8374cf-f717-42ba-a310-fd68cc63d356"
      },
      "execution_count": 11,
      "outputs": [
        {
          "output_type": "stream",
          "name": "stdout",
          "text": [
            "The path: ('0', '6', '7', '8') cost: 13\n",
            "The path: ('0', '2', '4', '7', '8') cost: 10\n",
            "The path: ('0', '2', '4', '3', '8') cost: 7\n",
            "The path: ('0', '2', '4', '8') cost: 7\n",
            "The path: ('0', '2', '3', '8') cost: 3\n",
            "The path: ('0', '4', '7', '8') cost: 2\n",
            "The path: ('0', '5', '7', '8') cost: 2\n",
            "The path: ('0', '4', '3', '8') cost: -1\n",
            "The path: ('0', '4', '8') cost: -1\n",
            "The path: ('0', '5', '8') cost: -2\n"
          ]
        }
      ]
    },
    {
      "cell_type": "markdown",
      "source": [
        "### **3. Introduce an additional vertex (V`) that satisfies the following conditions:**\n",
        "\n",
        "- a. V` is now the most reachable vertex (instead of V).\n",
        "- b. None of the vertices which share an edge with V share an edge with V`.\n",
        "\n",
        "### **4. If (3.b) is impossible, display an error message explaining why.**\n",
        "### **5. If (3) succeeds, print V`’s insertion in the input format.**"
      ],
      "metadata": {
        "id": "W9IcYD0MEakf"
      }
    },
    {
      "cell_type": "code",
      "source": [
        "new_vertice = '9'\n",
        "print(graph.add_reachable(more_reachable, new_vertice, 0))\n",
        "\n"
      ],
      "metadata": {
        "colab": {
          "base_uri": "https://localhost:8080/"
        },
        "id": "AGLPn-kmEYbE",
        "outputId": "4c2d6191-60a4-4866-8026-8d3bb92f1b68"
      },
      "execution_count": 6,
      "outputs": [
        {
          "output_type": "stream",
          "name": "stdout",
          "text": [
            "('8', '9', 0)\n"
          ]
        }
      ]
    },
    {
      "cell_type": "markdown",
      "source": [
        "### **The new vertex reachable is:**"
      ],
      "metadata": {
        "id": "wmesUwtjFNhu"
      }
    },
    {
      "cell_type": "code",
      "source": [
        "print(graph.vertex_with_maxpaths_from_source('0'))"
      ],
      "metadata": {
        "colab": {
          "base_uri": "https://localhost:8080/"
        },
        "id": "CenyBojMFXj4",
        "outputId": "598a67dc-6678-471b-e5df-b25af4932147"
      },
      "execution_count": 7,
      "outputs": [
        {
          "output_type": "stream",
          "name": "stdout",
          "text": [
            "9\n"
          ]
        }
      ]
    },
    {
      "cell_type": "markdown",
      "source": [
        "### **UNITTEST**"
      ],
      "metadata": {
        "id": "A6hXeHLfFqdG"
      }
    },
    {
      "cell_type": "code",
      "source": [
        "import unittest\n",
        "\n",
        "class My_tests(unittest.TestCase):\n",
        "\n",
        "    data = \"{0, 1, 2},{0, 2, 4},{0, 4, -2},{0, 5, 1},{0, 6, 5},{2, 3, 3},{2, 4, 2},{3, 8, -4},{4, 3, 5},{4, 8, 1},{4, 7, 2},{5, 7, -1},{5, 8, -3},{6, 7, 6},{7, 8, 2}\"\n",
        "    \n",
        "\n",
        "    def test_adding_input(self):\n",
        "        graph = Graph()\n",
        "        graph = read_data(graph, data)        \n",
        "        self.assertEqual(False, len(graph.nodes) == 7);\n",
        "\n",
        "    def test_adding_input2(self):\n",
        "        graph = Graph()\n",
        "        graph = read_data(graph, data)     \n",
        "        self.assertEqual(True, len(graph.nodes) == 9);\n",
        "\n",
        "    def test_check_adjacency(self):\n",
        "        graph = Graph()\n",
        "        graph = read_data(graph, data)     \n",
        "        self.assertEqual(True, '6' in graph.edges['0']);\n",
        "\n",
        "    def test_check_weight(self):\n",
        "        graph = Graph()\n",
        "        graph = read_data(graph, data)     \n",
        "        self.assertFalse(graph.weights[('0', '6')] != 5);\n",
        "\n",
        "    def test_check_weight2(self):\n",
        "        graph = Graph()\n",
        "        graph = read_data(graph, data)     \n",
        "        self.assertTrue(graph.weights[('0', '6')] == 5);\n",
        "\n",
        "    def test_check_weight2(self):\n",
        "        graph = Graph()\n",
        "        graph = read_data(graph, data)     \n",
        "        self.assertTrue(graph.weights[('0', '6')] == 5);\n",
        "\n",
        "    def test_check_max_cost_paths(self):\n",
        "        graph = Graph()\n",
        "        graph = read_data(graph, data)\n",
        "        paths = graph.get_paths('0', '8', True)\n",
        "        max_cost = max([path[1] for path in paths])             \n",
        "        self.assertEqual(True, max_cost == paths[0][1]);        \n",
        "\n",
        "if __name__ == '__main__':    \n",
        "    unittest.main(argv=['first-arg-is-ignored'], exit=False)"
      ],
      "metadata": {
        "colab": {
          "base_uri": "https://localhost:8080/"
        },
        "id": "S4PZPza6FGJG",
        "outputId": "1278988c-a0b3-4a4d-e474-794dd66aba16"
      },
      "execution_count": 16,
      "outputs": [
        {
          "output_type": "stream",
          "name": "stderr",
          "text": [
            "......\n",
            "----------------------------------------------------------------------\n",
            "Ran 6 tests in 0.012s\n",
            "\n",
            "OK\n"
          ]
        }
      ]
    }
  ]
}